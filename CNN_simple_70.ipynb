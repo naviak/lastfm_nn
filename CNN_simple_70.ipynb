{
  "nbformat": 4,
  "nbformat_minor": 0,
  "metadata": {
    "colab": {
      "name": "NN.ipynb",
      "provenance": [],
      "collapsed_sections": []
    },
    "kernelspec": {
      "name": "python3",
      "display_name": "Python 3"
    },
    "language_info": {
      "name": "python"
    },
    "accelerator": "GPU"
  },
  "cells": [
    {
      "cell_type": "code",
      "execution_count": 9,
      "metadata": {
        "id": "OCX2Ydk2tCc5"
      },
      "outputs": [],
      "source": [
        "from tensorflow.keras.preprocessing import image\n",
        "import os\n",
        "import pandas as pd\n",
        "import numpy as np\n",
        "from skimage.measure import block_reduce\n",
        "from sklearn.model_selection import train_test_split\n",
        "from tensorflow.keras import datasets, layers, models\n",
        "import tensorflow as tf"
      ]
    },
    {
      "cell_type": "code",
      "source": [
        "df = pd.read_csv('drive/MyDrive/cleaned_4500.csv')\n",
        "\n",
        "df['spectogram'] = [f'{f}.jpg' if os.path.isfile(f'drive/MyDrive/specs/{f}.jpg') else 'None' for f in range(df.shape[0])]\n",
        "ndf = df.iloc[:,[-2,-1]]\n",
        "ndf = ndf[ndf['spectogram'] != 'None']\n",
        "ndf.reset_index(drop=True, inplace=True)"
      ],
      "metadata": {
        "id": "quQ4FBZzh_fp"
      },
      "execution_count": 4,
      "outputs": []
    },
    {
      "cell_type": "code",
      "source": [
        "def normalize_gray(array):\n",
        "    return (array - array.min())/(array.max() - array.min())\n",
        "\n",
        "\n",
        "Y, X = np.split(ndf.values, 2, axis=1)\n",
        "\n",
        "Y = np.hstack(Y)\n",
        "X = np.hstack(X)\n",
        "img_ar_gray = np.array([image.img_to_array(image.load_img('drive/MyDrive/specs/' + fname, target_size=(288, 432)))[...,:3]\n",
        "                        @ [0.299, 0.587, 0.114] for fname in X])\n",
        "ar = normalize_gray(img_ar_gray)"
      ],
      "metadata": {
        "id": "FIBKsaSDh7a4"
      },
      "execution_count": 5,
      "outputs": []
    },
    {
      "cell_type": "code",
      "source": [
        "X = np.array([block_reduce(img, block_size = (3,3), func=np.mean) for img in ar])\n",
        "Y = pd.get_dummies(Y).values\n",
        "X_train, X_test, y_train, y_test = train_test_split(X, Y, test_size=0.20, random_state=42)\n",
        "\n",
        "X_train = tf.expand_dims(X_train, axis=-1)\n",
        "X_test = tf.expand_dims(X_test, axis=-1)"
      ],
      "metadata": {
        "id": "bqDge8iWiHmT"
      },
      "execution_count": 6,
      "outputs": []
    },
    {
      "cell_type": "code",
      "source": [
        "print(X_test.shape)\n",
        "input_shape = (96, 144, 1)\n",
        "model = models.Sequential()\n",
        "model.add(layers.Conv2D(32, kernel_size=(3, 3), activation='relu', input_shape=input_shape))\n",
        "model.add(layers.Conv2D(64, kernel_size=(3, 3), activation='relu'))\n",
        "model.add(layers.MaxPooling2D(pool_size=(2, 2)))\n",
        "model.add(layers.Dropout(0.25))\n",
        "model.add(layers.Flatten())\n",
        "model.add(layers.Dense(128, activation='relu'))\n",
        "model.add(layers.Dropout(0.5))\n",
        "model.add(layers.Dense(17, activation='softmax'))\n",
        "model.compile(optimizer='adam',\n",
        "              loss=tf.keras.losses.categorical_crossentropy,\n",
        "              metrics=['accuracy'])\n",
        "\n",
        "model.fit(X_train, y_train, epochs=30)\n",
        "preds = model.predict(X_test, batch_size=100)"
      ],
      "metadata": {
        "colab": {
          "base_uri": "https://localhost:8080/"
        },
        "id": "MtqPyreftSHP",
        "outputId": "76226f2a-781e-43f0-acde-3274bec0c8a9"
      },
      "execution_count": 7,
      "outputs": [
        {
          "output_type": "stream",
          "name": "stdout",
          "text": [
            "(196, 96, 144, 1)\n",
            "Epoch 1/30\n",
            "25/25 [==============================] - 12s 43ms/step - loss: 2.5455 - accuracy: 0.4474\n",
            "Epoch 2/30\n",
            "25/25 [==============================] - 1s 31ms/step - loss: 1.6222 - accuracy: 0.4987\n",
            "Epoch 3/30\n",
            "25/25 [==============================] - 1s 31ms/step - loss: 1.6199 - accuracy: 0.5205\n",
            "Epoch 4/30\n",
            "25/25 [==============================] - 1s 30ms/step - loss: 1.4342 - accuracy: 0.5474\n",
            "Epoch 5/30\n",
            "25/25 [==============================] - 1s 31ms/step - loss: 1.4088 - accuracy: 0.5474\n",
            "Epoch 6/30\n",
            "25/25 [==============================] - 1s 31ms/step - loss: 1.2796 - accuracy: 0.5744\n",
            "Epoch 7/30\n",
            "25/25 [==============================] - 1s 31ms/step - loss: 1.1396 - accuracy: 0.6256\n",
            "Epoch 8/30\n",
            "25/25 [==============================] - 1s 31ms/step - loss: 0.9506 - accuracy: 0.6910\n",
            "Epoch 9/30\n",
            "25/25 [==============================] - 1s 31ms/step - loss: 0.8311 - accuracy: 0.7090\n",
            "Epoch 10/30\n",
            "25/25 [==============================] - 1s 31ms/step - loss: 0.6620 - accuracy: 0.7705\n",
            "Epoch 11/30\n",
            "25/25 [==============================] - 1s 31ms/step - loss: 0.5541 - accuracy: 0.8038\n",
            "Epoch 12/30\n",
            "25/25 [==============================] - 1s 31ms/step - loss: 0.4203 - accuracy: 0.8487\n",
            "Epoch 13/30\n",
            "25/25 [==============================] - 1s 31ms/step - loss: 0.3551 - accuracy: 0.8833\n",
            "Epoch 14/30\n",
            "25/25 [==============================] - 1s 31ms/step - loss: 0.2795 - accuracy: 0.9103\n",
            "Epoch 15/30\n",
            "25/25 [==============================] - 1s 31ms/step - loss: 0.2965 - accuracy: 0.9013\n",
            "Epoch 16/30\n",
            "25/25 [==============================] - 1s 31ms/step - loss: 0.2307 - accuracy: 0.9167\n",
            "Epoch 17/30\n",
            "25/25 [==============================] - 1s 31ms/step - loss: 0.1989 - accuracy: 0.9372\n",
            "Epoch 18/30\n",
            "25/25 [==============================] - 1s 31ms/step - loss: 0.1594 - accuracy: 0.9487\n",
            "Epoch 19/30\n",
            "25/25 [==============================] - 1s 31ms/step - loss: 0.1236 - accuracy: 0.9628\n",
            "Epoch 20/30\n",
            "25/25 [==============================] - 1s 32ms/step - loss: 0.1270 - accuracy: 0.9590\n",
            "Epoch 21/30\n",
            "25/25 [==============================] - 1s 31ms/step - loss: 0.1136 - accuracy: 0.9692\n",
            "Epoch 22/30\n",
            "25/25 [==============================] - 1s 31ms/step - loss: 0.1139 - accuracy: 0.9654\n",
            "Epoch 23/30\n",
            "25/25 [==============================] - 1s 31ms/step - loss: 0.0944 - accuracy: 0.9705\n",
            "Epoch 24/30\n",
            "25/25 [==============================] - 1s 31ms/step - loss: 0.0933 - accuracy: 0.9705\n",
            "Epoch 25/30\n",
            "25/25 [==============================] - 1s 31ms/step - loss: 0.0666 - accuracy: 0.9821\n",
            "Epoch 26/30\n",
            "25/25 [==============================] - 1s 31ms/step - loss: 0.0750 - accuracy: 0.9731\n",
            "Epoch 27/30\n",
            "25/25 [==============================] - 1s 31ms/step - loss: 0.0820 - accuracy: 0.9756\n",
            "Epoch 28/30\n",
            "25/25 [==============================] - 1s 31ms/step - loss: 0.0759 - accuracy: 0.9744\n",
            "Epoch 29/30\n",
            "25/25 [==============================] - 1s 31ms/step - loss: 0.0603 - accuracy: 0.9821\n",
            "Epoch 30/30\n",
            "25/25 [==============================] - 1s 31ms/step - loss: 0.0665 - accuracy: 0.9769\n"
          ]
        }
      ]
    },
    {
      "cell_type": "code",
      "source": [
        "th, _ = np.split(ndf.values, 2, axis=1)\n",
        "th = np.hstack(th)\n",
        "dummies = pd.get_dummies(th)\n",
        "\n",
        "d_c = dummies.copy()\n",
        "d_c = d_c.iloc[:196]\n",
        "d_c[dummies.columns] = preds\n",
        "s1 = d_c.idxmax(axis=1).values\n",
        "\n",
        "d_c = dummies.copy()\n",
        "d_c = d_c.iloc[:196]\n",
        "d_c[dummies.columns] = y_test\n",
        "s2 = d_c.idxmax(axis=1).values\n",
        "\n",
        "inds = s2 != s1\n",
        "heyo = np.dstack((s1[inds],s2[inds]))\n",
        "print(heyo.shape)"
      ],
      "metadata": {
        "colab": {
          "base_uri": "https://localhost:8080/"
        },
        "id": "JBwGtTpLNjoR",
        "outputId": "948ce70a-1063-4b40-ce3f-2fdfb20373cc"
      },
      "execution_count": 10,
      "outputs": [
        {
          "output_type": "stream",
          "name": "stdout",
          "text": [
            "(1, 58, 2)\n"
          ]
        }
      ]
    }
  ]
}