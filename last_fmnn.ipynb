{
 "cells": [
  {
   "cell_type": "code",
   "execution_count": 1,
   "metadata": {},
   "outputs": [],
   "source": [
    "import requests\n",
    "import json"
   ]
  },
  {
   "cell_type": "code",
   "execution_count": 35,
   "metadata": {},
   "outputs": [],
   "source": [
    "def lastfm_get(payload):\n",
    "\n",
    "    headers = {'user-agent': 'naviak'}\n",
    "    url = 'https://ws.audioscrobbler.com/2.0/'\n",
    "    payload['api_key'] = ''\n",
    "    payload['format'] = 'json'\n",
    "\n",
    "    response = requests.get(url, headers=headers, params=payload)\n",
    "    return response\n",
    "def jprint(obj):\n",
    "    text = json.dumps(obj, sort_keys=True, indent=4)\n",
    "    print(text)"
   ]
  },
  {
   "cell_type": "code",
   "execution_count": 36,
   "metadata": {},
   "outputs": [
    {
     "name": "stdout",
     "output_type": "stream",
     "text": [
      "{\n",
      "    \"artist\": \"Mariah Carey\",\n",
      "    \"name\": \"All I Want for Christmas Is You\",\n",
      "    \"url\": \"https://www.last.fm/music/Mariah+Carey/_/All+I+Want+for+Christmas+Is+You\"\n",
      "}\n"
     ]
    }
   ],
   "source": [
    "r = lastfm_get({\n",
    "    'method': 'chart.getTopTracks'\n",
    "})\n",
    "\n",
    "js = {key: r.json()['tracks']['track'][0][key] for key in ('artist','name','url')}\n",
    "js['artist'] = js['artist']['name']\n",
    "jprint(js)"
   ]
  },
  {
   "cell_type": "code",
   "execution_count": 6,
   "metadata": {},
   "outputs": [
    {
     "name": "stdout",
     "output_type": "stream",
     "text": [
      "Requesting page 9/9\n"
     ]
    }
   ],
   "source": [
    "import time\n",
    "from IPython.core.display import clear_output\n",
    "\n",
    "responses = []\n",
    "\n",
    "page = 1\n",
    "total_pages = 9\n",
    "\n",
    "while page <= total_pages:\n",
    "    payload = {\n",
    "        'method': 'chart.getTopTracks',\n",
    "        'limit': 500,\n",
    "        'page': page\n",
    "    }\n",
    "\n",
    "    print(\"Requesting page {}/{}\".format(page, total_pages))\n",
    "    clear_output(wait = True)\n",
    "\n",
    "    response = lastfm_get(payload)\n",
    "\n",
    "    if response.status_code != 200:\n",
    "        print(response.text)\n",
    "        break\n",
    "\n",
    "    page = int(response.json()['tracks']['@attr']['page'])\n",
    "    #total_pages = int(response.json()['tracks']['@attr']['totalPages'])\n",
    "\n",
    "    responses.append(response)\n",
    "\n",
    "    if not getattr(response, 'from_cache', False):\n",
    "        time.sleep(0.2)\n",
    "\n",
    "    # increment the page number\n",
    "    page += 1"
   ]
  },
  {
   "cell_type": "code",
   "execution_count": 30,
   "metadata": {},
   "outputs": [],
   "source": [
    "def prettify(response):\n",
    "    response_ = response.json()\n",
    "    response_ = {key: response_['tracks']['track'][0][key] for key in ('artist','name','url')}\n",
    "    response_['artist'] = response_['artist']['name']\n",
    "    return response_"
   ]
  },
  {
   "cell_type": "code",
   "execution_count": 31,
   "metadata": {},
   "outputs": [
    {
     "data": {
      "text/html": [
       "<div>\n",
       "<style scoped>\n",
       "    .dataframe tbody tr th:only-of-type {\n",
       "        vertical-align: middle;\n",
       "    }\n",
       "\n",
       "    .dataframe tbody tr th {\n",
       "        vertical-align: top;\n",
       "    }\n",
       "\n",
       "    .dataframe thead th {\n",
       "        text-align: right;\n",
       "    }\n",
       "</style>\n",
       "<table border=\"1\" class=\"dataframe\">\n",
       "  <thead>\n",
       "    <tr style=\"text-align: right;\">\n",
       "      <th></th>\n",
       "      <th>artist</th>\n",
       "      <th>name</th>\n",
       "      <th>url</th>\n",
       "    </tr>\n",
       "  </thead>\n",
       "  <tbody>\n",
       "    <tr>\n",
       "      <th>0</th>\n",
       "      <td>bôa</td>\n",
       "      <td>Duvet</td>\n",
       "      <td>https://www.last.fm/music/b%C3%B4a/_/Duvet</td>\n",
       "    </tr>\n",
       "  </tbody>\n",
       "</table>\n",
       "</div>"
      ],
      "text/plain": [
       "  artist   name                                         url\n",
       "0    bôa  Duvet  https://www.last.fm/music/b%C3%B4a/_/Duvet"
      ]
     },
     "execution_count": 31,
     "metadata": {},
     "output_type": "execute_result"
    }
   ],
   "source": [
    "import pandas as pd\n",
    "\n",
    "r0 = responses[0]\n",
    "r0_df = pd.DataFrame([prettify(r0)])\n",
    "r0_df.head()"
   ]
  },
  {
   "cell_type": "code",
   "execution_count": 34,
   "metadata": {},
   "outputs": [
    {
     "data": {
      "text/html": [
       "<div>\n",
       "<style scoped>\n",
       "    .dataframe tbody tr th:only-of-type {\n",
       "        vertical-align: middle;\n",
       "    }\n",
       "\n",
       "    .dataframe tbody tr th {\n",
       "        vertical-align: top;\n",
       "    }\n",
       "\n",
       "    .dataframe thead th {\n",
       "        text-align: right;\n",
       "    }\n",
       "</style>\n",
       "<table border=\"1\" class=\"dataframe\">\n",
       "  <thead>\n",
       "    <tr style=\"text-align: right;\">\n",
       "      <th></th>\n",
       "      <th>artist</th>\n",
       "      <th>name</th>\n",
       "      <th>url</th>\n",
       "    </tr>\n",
       "  </thead>\n",
       "  <tbody>\n",
       "    <tr>\n",
       "      <th>0</th>\n",
       "      <td>bôa</td>\n",
       "      <td>Duvet</td>\n",
       "      <td>https://www.last.fm/music/b%C3%B4a/_/Duvet</td>\n",
       "    </tr>\n",
       "    <tr>\n",
       "      <th>1</th>\n",
       "      <td>Mariah Carey</td>\n",
       "      <td>All I Want for Christmas Is You</td>\n",
       "      <td>https://www.last.fm/music/Mariah+Carey/_/All+I...</td>\n",
       "    </tr>\n",
       "    <tr>\n",
       "      <th>2</th>\n",
       "      <td>Slowdive</td>\n",
       "      <td>Alison</td>\n",
       "      <td>https://www.last.fm/music/Slowdive/_/Alison</td>\n",
       "    </tr>\n",
       "    <tr>\n",
       "      <th>3</th>\n",
       "      <td>Adele</td>\n",
       "      <td>Water Under The Bridge</td>\n",
       "      <td>https://www.last.fm/music/Adele/_/Water+Under+...</td>\n",
       "    </tr>\n",
       "    <tr>\n",
       "      <th>4</th>\n",
       "      <td>Frank Ocean</td>\n",
       "      <td>Sierra Leone</td>\n",
       "      <td>https://www.last.fm/music/Frank+Ocean/_/Sierra...</td>\n",
       "    </tr>\n",
       "  </tbody>\n",
       "</table>\n",
       "</div>"
      ],
      "text/plain": [
       "         artist                             name  \\\n",
       "0           bôa                            Duvet   \n",
       "1  Mariah Carey  All I Want for Christmas Is You   \n",
       "2      Slowdive                           Alison   \n",
       "3         Adele           Water Under The Bridge   \n",
       "4   Frank Ocean                     Sierra Leone   \n",
       "\n",
       "                                                 url  \n",
       "0         https://www.last.fm/music/b%C3%B4a/_/Duvet  \n",
       "1  https://www.last.fm/music/Mariah+Carey/_/All+I...  \n",
       "2        https://www.last.fm/music/Slowdive/_/Alison  \n",
       "3  https://www.last.fm/music/Adele/_/Water+Under+...  \n",
       "4  https://www.last.fm/music/Frank+Ocean/_/Sierra...  "
      ]
     },
     "execution_count": 34,
     "metadata": {},
     "output_type": "execute_result"
    }
   ],
   "source": [
    "frames = [pd.DataFrame([prettify(r)]) for r in responses]\n",
    "artists = pd.concat(frames, ignore_index=True)\n",
    "artists.head()"
   ]
  },
  {
   "cell_type": "code",
   "execution_count": null,
   "metadata": {},
   "outputs": [],
   "source": []
  }
 ],
 "metadata": {
  "kernelspec": {
   "display_name": "Python 3 (ipykernel)",
   "language": "python",
   "name": "python3"
  },
  "language_info": {
   "codemirror_mode": {
    "name": "ipython",
    "version": 3
   },
   "file_extension": ".py",
   "mimetype": "text/x-python",
   "name": "python",
   "nbconvert_exporter": "python",
   "pygments_lexer": "ipython3",
   "version": "3.8.5"
  },
  "toc": {
   "base_numbering": 1,
   "nav_menu": {},
   "number_sections": false,
   "sideBar": false,
   "skip_h1_title": false,
   "title_cell": "Table of Contents",
   "title_sidebar": "Contents",
   "toc_cell": false,
   "toc_position": {},
   "toc_section_display": false,
   "toc_window_display": false
  }
 },
 "nbformat": 4,
 "nbformat_minor": 4
}
